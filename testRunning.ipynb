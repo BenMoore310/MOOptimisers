{
 "cells": [
  {
   "cell_type": "code",
   "execution_count": 92,
   "metadata": {},
   "outputs": [],
   "source": [
    "import optimiserBank as opt\n",
    "import functionBank as func\n",
    "import matplotlib.pyplot as plt\n",
    "import importlib\n",
    "importlib.reload(opt)\n",
    "importlib.reload(func)\n",
    "import numpy as np\n",
    "import matplotlib.pyplot as plt\n",
    "from scipy.stats import qmc "
   ]
  },
  {
   "cell_type": "code",
   "execution_count": 93,
   "metadata": {},
   "outputs": [
    {
     "name": "stdout",
     "output_type": "stream",
     "text": [
      "Initial Population:\n"
     ]
    },
    {
     "data": {
      "image/png": "[encoded data removed]",
      "text/plain": [
       "<Figure size 640x480 with 1 Axes>"
      ]
     },
     "metadata": {},
     "output_type": "display_data"
    },
    {
     "name": "stdout",
     "output_type": "stream",
     "text": [
      "[[nan nan]]\n",
      "[[nan nan]]\n",
      "[[nan nan]]\n",
      "[[nan nan]]\n",
      "[[nan nan]]\n",
      "[[78.89563159 17.87042082]]\n",
      "[[nan nan]]\n",
      "[[nan nan]]\n",
      "[[nan nan]]\n",
      "[[nan nan]]\n",
      "[[ 265.9329602  -128.21692814]]\n",
      "[[nan nan]]\n",
      "[[nan nan]]\n",
      "[[nan nan]]\n",
      "[[ 61.25281866 -14.47827744]]\n",
      "[[nan nan]]\n",
      "[[nan nan]]\n",
      "[[nan nan]]\n",
      "[[nan nan]]\n",
      "[[ 19.22764806 -12.90602679]]\n",
      "[[  56.0944087   -53.55715593]\n",
      " [  12.94832235    2.52702849]\n",
      " [ 152.54579883 -126.16840377]\n",
      " [ 230.8724072  -146.58097736]\n",
      " [  42.94039147  -37.84814209]\n",
      " [  78.89563159   17.87042082]\n",
      " [ 101.70596284  -78.36638382]\n",
      " [ 151.54666955  -92.08270183]\n",
      " [ 113.80318028  -89.77626169]\n",
      " [ 225.62274567 -160.59822443]\n",
      " [ 265.9329602  -128.21692814]\n",
      " [ 214.39956044 -212.11295454]\n",
      " [ 163.90134892    3.93074295]\n",
      " [  17.86713234  -10.58535208]\n",
      " [  61.25281866  -14.47827744]\n",
      " [  75.26959987  -65.83221026]\n",
      " [  27.33522243   -2.09584308]\n",
      " [  74.26851949  -69.31952694]\n",
      " [  97.80961004   31.75152385]\n",
      " [  19.22764806  -12.90602679]]\n"
     ]
    },
    {
     "data": {
      "image/png": "[encoded data removed]",
      "text/plain": [
       "<Figure size 640x480 with 1 Axes>"
      ]
     },
     "metadata": {},
     "output_type": "display_data"
    }
   ],
   "source": [
    "bounds = np.array([(-20,20), (-20,20)])\n",
    "sampler = qmc.LatinHypercube(d=len(bounds))\n",
    "sample = sampler.random(n=20)\n",
    "initPopulation = qmc.scale(sample, bounds[:, 0], bounds[:, 1])\n",
    "print('Initial Population:')\n",
    "# print(initPopulation)\n",
    "plt.scatter(initPopulation[:,0], initPopulation[:,1])\n",
    "plt.show()\n",
    "\n",
    "objvTargets = np.empty((0,2))\n",
    "\n",
    "for i in range(0, 20):\n",
    "\n",
    "    newObjvTgt = opt.MOobjective_function(initPopulation[i], func.chankongHaimes, 2)\n",
    "    print(newObjvTgt)\n",
    "    while np.any(np.isnan(newObjvTgt)):\n",
    "        newSample = np.random.uniform(-20, high=20, size=(2,))\n",
    "        newObjvTgt = opt.MOobjective_function(newSample, func.chankongHaimes, 2)\n",
    "\n",
    "    objvTargets = np.vstack((objvTargets, newObjvTgt))\n",
    "\n",
    "print(objvTargets)\n",
    "\n",
    "plt.scatter(objvTargets[:,0], objvTargets[:,1])\n",
    "plt.show()"
   ]
  },
  {
   "cell_type": "code",
   "execution_count": 94,
   "metadata": {},
   "outputs": [
    {
     "name": "stdout",
     "output_type": "stream",
     "text": [
      "fonsecaFleming [(-4, 4), (-4, 4)]\n",
      "Initial Population:\n",
      "[[-1.03891069  2.58225045]\n",
      " [ 0.98760116 -2.82290536]\n",
      " [ 2.20986821  3.72613562]\n",
      " [ 3.24018709 -3.73978144]\n",
      " [ 1.6220674  -0.90338664]\n",
      " [-3.07758568  2.86765298]\n",
      " [-2.27104223  0.66529999]\n",
      " [-3.91843932 -1.32469324]\n",
      " [-0.03796024  1.68680217]\n",
      " [ 1.42220192 -2.45845565]\n",
      " [ 3.93096059 -2.39157401]\n",
      " [-2.49514366  1.51166588]\n",
      " [-1.6683122   2.08220728]\n",
      " [ 0.05360014 -3.48112549]\n",
      " [-1.35701825  3.5660011 ]\n",
      " [ 3.07753464  0.0439359 ]\n",
      " [ 0.59076634  0.80083538]\n",
      " [-0.62836983 -0.41754101]\n",
      " [-3.24203563 -1.97376069]\n",
      " [ 2.59535304 -0.35551933]]\n",
      "No NaN values found.\n"
     ]
    },
    {
     "name": "stderr",
     "output_type": "stream",
     "text": [
      "/Users/benmoore/miniconda3/envs/OpenFOAM/lib/python3.11/site-packages/gpytorch/models/exact_gp.py:284: GPInputWarning: The input matches the stored training data. Did you forget to call model.train()?\n",
      "  warnings.warn(\n"
     ]
    },
    {
     "name": "stdout",
     "output_type": "stream",
     "text": [
      "No NaN values found.\n",
      "No NaN values found.\n",
      "Generation 200: Best RBF Fitness = [0.48799881]\n",
      "best local Solution [-0.71116753 -0.80561131]\n",
      "No NaN values found.\n",
      "Best found solution =  0.47574560556468054\n",
      "No NaN values found.\n",
      "No NaN values found.\n",
      "Generation 200: Best RBF Fitness = [0.48669829]\n",
      "best local Solution [-0.773524  -0.8250534]\n",
      "No NaN values found.\n",
      "Best found solution =  0.47574560556468054\n",
      "No NaN values found.\n",
      "No NaN values found.\n",
      "Generation 200: Best RBF Fitness = [0.48854255]\n",
      "best local Solution [-0.63580844 -0.67676542]\n",
      "No NaN values found.\n",
      "Best found solution =  0.47574560556468054\n",
      "No NaN values found.\n",
      "No NaN values found.\n",
      "Generation 200: Best RBF Fitness = [0.4890129]\n",
      "best local Solution [-0.24483928 -0.45582159]\n",
      "No NaN values found.\n",
      "Best found solution =  0.4465725560845603\n",
      "No NaN values found.\n",
      "No NaN values found.\n",
      "Generation 200: Best RBF Fitness = [0.47868081]\n",
      "best local Solution [-0.02211621  0.04438382]\n",
      "No NaN values found.\n",
      "Best found solution =  0.3211295229670895\n",
      "No NaN values found.\n",
      "No NaN values found.\n",
      "Generation 200: Best RBF Fitness = [0.32397484]\n",
      "best local Solution [0.03046036 0.13122346]\n",
      "No NaN values found.\n",
      "Best found solution =  0.3211295229670895\n",
      "No NaN values found.\n",
      "No NaN values found.\n",
      "Generation 200: Best RBF Fitness = [0.33786571]\n",
      "best local Solution [0.06575773 0.00346589]\n",
      "No NaN values found.\n",
      "Best found solution =  0.3211295229670895\n",
      "No NaN values found.\n",
      "No NaN values found.\n"
     ]
    },
    {
     "ename": "KeyboardInterrupt",
     "evalue": "",
     "output_type": "error",
     "traceback": [
      "\u001b[0;31m---------------------------------------------------------------------------\u001b[0m",
      "\u001b[0;31mKeyboardInterrupt\u001b[0m                         Traceback (most recent call last)",
      "Cell \u001b[0;32mIn[94], line 48\u001b[0m\n\u001b[1;32m     45\u001b[0m \u001b[38;5;28mprint\u001b[39m(initPopulation)\n\u001b[1;32m     47\u001b[0m LSADE \u001b[38;5;241m=\u001b[39m opt\u001b[38;5;241m.\u001b[39mLSADE(value, \u001b[38;5;241m20\u001b[39m, key, func\u001b[38;5;241m.\u001b[39mchebyshev, \u001b[38;5;241m2\u001b[39m, weights, useInitialPopulation\u001b[38;5;241m=\u001b[39m\u001b[38;5;28;01mTrue\u001b[39;00m, initialPopulation\u001b[38;5;241m=\u001b[39minitPopulation)\n\u001b[0;32m---> 48\u001b[0m LSADE\u001b[38;5;241m.\u001b[39moptimizerStep()\n",
      "File \u001b[0;32m~/projects/elgarMOOOpt/optimiserBank.py:1510\u001b[0m, in \u001b[0;36mLSADE.optimizerStep\u001b[0;34m(self)\u001b[0m\n\u001b[1;32m   1506\u001b[0m plt\u001b[38;5;241m.\u001b[39mclose()\n\u001b[1;32m   1508\u001b[0m \u001b[38;5;66;03m# construct local RBF using c best solutions, find minima using DE, and evaluate at that minima\u001b[39;00m\n\u001b[0;32m-> 1510\u001b[0m bestLocalSolution \u001b[38;5;241m=\u001b[39m \u001b[38;5;28mself\u001b[39m\u001b[38;5;241m.\u001b[39mlocalRBF(\u001b[38;5;241m15\u001b[39m)\n\u001b[1;32m   1512\u001b[0m bestLocalSolution \u001b[38;5;241m=\u001b[39m np\u001b[38;5;241m.\u001b[39mreshape(bestLocalSolution, (\u001b[38;5;241m2\u001b[39m,))\n\u001b[1;32m   1514\u001b[0m \u001b[38;5;28mprint\u001b[39m(\u001b[38;5;124m\"\u001b[39m\u001b[38;5;124mbest local Solution\u001b[39m\u001b[38;5;124m\"\u001b[39m, bestLocalSolution)\n",
      "File \u001b[0;32m~/projects/elgarMOOOpt/optimiserBank.py:1377\u001b[0m, in \u001b[0;36mLSADE.localRBF\u001b[0;34m(self, numSolutions)\u001b[0m\n\u001b[1;32m   1372\u001b[0m \u001b[38;5;66;03m# localRBF = RBFSurrogateModel(epsilon=1.0)\u001b[39;00m\n\u001b[1;32m   1373\u001b[0m \u001b[38;5;66;03m# localRBF.fit(bestFeatures, bestTargets)\u001b[39;00m\n\u001b[1;32m   1374\u001b[0m \n\u001b[1;32m   1375\u001b[0m \u001b[38;5;66;03m# functionEval = localRBF.predict()\u001b[39;00m\n\u001b[1;32m   1376\u001b[0m localDE \u001b[38;5;241m=\u001b[39m DifferentialEvolution(bounds, localGP)\n\u001b[0;32m-> 1377\u001b[0m bestLocalSolution, bestLocalFitness \u001b[38;5;241m=\u001b[39m localDE\u001b[38;5;241m.\u001b[39moptimize()\n\u001b[1;32m   1379\u001b[0m \u001b[38;5;28;01mreturn\u001b[39;00m bestLocalSolution\n",
      "File \u001b[0;32m~/projects/elgarMOOOpt/optimiserBank.py:355\u001b[0m, in \u001b[0;36mDifferentialEvolution.optimize\u001b[0;34m(self)\u001b[0m\n\u001b[1;32m    352\u001b[0m target \u001b[38;5;241m=\u001b[39m \u001b[38;5;28mself\u001b[39m\u001b[38;5;241m.\u001b[39mpopulation[i]\n\u001b[1;32m    353\u001b[0m \u001b[38;5;66;03m# print('break')\u001b[39;00m\n\u001b[1;32m    354\u001b[0m \u001b[38;5;66;03m# print(i)\u001b[39;00m\n\u001b[0;32m--> 355\u001b[0m mutant \u001b[38;5;241m=\u001b[39m \u001b[38;5;28mself\u001b[39m\u001b[38;5;241m.\u001b[39mmutate(i)\n\u001b[1;32m    356\u001b[0m \u001b[38;5;66;03m# print(mutant)\u001b[39;00m\n\u001b[1;32m    357\u001b[0m mutant \u001b[38;5;241m=\u001b[39m np\u001b[38;5;241m.\u001b[39mreshape(mutant, (\u001b[38;5;241m2\u001b[39m,))\n",
      "File \u001b[0;32m~/projects/elgarMOOOpt/optimiserBank.py:285\u001b[0m, in \u001b[0;36mDifferentialEvolution.mutate\u001b[0;34m(self, target_idx)\u001b[0m\n\u001b[1;32m    276\u001b[0m r1, r2, r3 \u001b[38;5;241m=\u001b[39m indices[:\u001b[38;5;241m3\u001b[39m]\n\u001b[1;32m    278\u001b[0m \u001b[38;5;66;03m# Best individual in current population\u001b[39;00m\n\u001b[1;32m    279\u001b[0m \n\u001b[1;32m    280\u001b[0m \u001b[38;5;66;03m# print(self.population.shape)\u001b[39;00m\n\u001b[1;32m    281\u001b[0m \n\u001b[1;32m    282\u001b[0m \u001b[38;5;66;03m# TODO  instead of this list comprehension bollocks just evaluate them all at once\u001b[39;00m\n\u001b[1;32m    283\u001b[0m \u001b[38;5;66;03m# as thats what i think it wants, then find the minimum of the results.\u001b[39;00m\n\u001b[0;32m--> 285\u001b[0m predictedValues \u001b[38;5;241m=\u001b[39m GPEval(\u001b[38;5;28mself\u001b[39m\u001b[38;5;241m.\u001b[39mobjective_function, \u001b[38;5;28mself\u001b[39m\u001b[38;5;241m.\u001b[39mpopulation)\n\u001b[1;32m    287\u001b[0m best_idx \u001b[38;5;241m=\u001b[39m np\u001b[38;5;241m.\u001b[39margsort(predictedValues)[:\u001b[38;5;241m1\u001b[39m]\n\u001b[1;32m    289\u001b[0m best \u001b[38;5;241m=\u001b[39m \u001b[38;5;28mself\u001b[39m\u001b[38;5;241m.\u001b[39mpopulation[best_idx]\n",
      "File \u001b[0;32m~/projects/elgarMOOOpt/optimiserBank.py:210\u001b[0m, in \u001b[0;36mGPEval\u001b[0;34m(model, newFeatures)\u001b[0m\n\u001b[1;32m    207\u001b[0m model\u001b[38;5;241m.\u001b[39meval()\n\u001b[1;32m    209\u001b[0m \u001b[38;5;28;01mwith\u001b[39;00m torch\u001b[38;5;241m.\u001b[39mno_grad(), gpytorch\u001b[38;5;241m.\u001b[39msettings\u001b[38;5;241m.\u001b[39mfast_pred_var():\n\u001b[0;32m--> 210\u001b[0m     observed_pred \u001b[38;5;241m=\u001b[39m model(torch\u001b[38;5;241m.\u001b[39mfrom_numpy(newFeatures))\n\u001b[1;32m    212\u001b[0m mean_pred \u001b[38;5;241m=\u001b[39m observed_pred\u001b[38;5;241m.\u001b[39mmean\u001b[38;5;241m.\u001b[39mnumpy()\n\u001b[1;32m    214\u001b[0m \u001b[38;5;28;01mreturn\u001b[39;00m mean_pred\n",
      "File \u001b[0;32m~/miniconda3/envs/OpenFOAM/lib/python3.11/site-packages/gpytorch/models/exact_gp.py:333\u001b[0m, in \u001b[0;36mExactGP.__call__\u001b[0;34m(self, *args, **kwargs)\u001b[0m\n\u001b[1;32m    328\u001b[0m \u001b[38;5;66;03m# Make the prediction\u001b[39;00m\n\u001b[1;32m    329\u001b[0m \u001b[38;5;28;01mwith\u001b[39;00m settings\u001b[38;5;241m.\u001b[39mcg_tolerance(settings\u001b[38;5;241m.\u001b[39meval_cg_tolerance\u001b[38;5;241m.\u001b[39mvalue()):\n\u001b[1;32m    330\u001b[0m     (\n\u001b[1;32m    331\u001b[0m         predictive_mean,\n\u001b[1;32m    332\u001b[0m         predictive_covar,\n\u001b[0;32m--> 333\u001b[0m     ) \u001b[38;5;241m=\u001b[39m \u001b[38;5;28mself\u001b[39m\u001b[38;5;241m.\u001b[39mprediction_strategy\u001b[38;5;241m.\u001b[39mexact_prediction(full_mean, full_covar)\n\u001b[1;32m    335\u001b[0m \u001b[38;5;66;03m# Reshape predictive mean to match the appropriate event shape\u001b[39;00m\n\u001b[1;32m    336\u001b[0m predictive_mean \u001b[38;5;241m=\u001b[39m predictive_mean\u001b[38;5;241m.\u001b[39mview(\u001b[38;5;241m*\u001b[39mbatch_shape, \u001b[38;5;241m*\u001b[39mtest_shape)\u001b[38;5;241m.\u001b[39mcontiguous()\n",
      "File \u001b[0;32m~/miniconda3/envs/OpenFOAM/lib/python3.11/site-packages/gpytorch/models/exact_prediction_strategies.py:281\u001b[0m, in \u001b[0;36mDefaultPredictionStrategy.exact_prediction\u001b[0;34m(self, joint_mean, joint_covar)\u001b[0m\n\u001b[1;32m    279\u001b[0m \u001b[38;5;66;03m# For efficiency - we can make things more efficient\u001b[39;00m\n\u001b[1;32m    280\u001b[0m \u001b[38;5;28;01mif\u001b[39;00m joint_covar\u001b[38;5;241m.\u001b[39msize(\u001b[38;5;241m-\u001b[39m\u001b[38;5;241m1\u001b[39m) \u001b[38;5;241m<\u001b[39m\u001b[38;5;241m=\u001b[39m settings\u001b[38;5;241m.\u001b[39mmax_eager_kernel_size\u001b[38;5;241m.\u001b[39mvalue():\n\u001b[0;32m--> 281\u001b[0m     test_covar \u001b[38;5;241m=\u001b[39m joint_covar[\u001b[38;5;241m.\u001b[39m\u001b[38;5;241m.\u001b[39m\u001b[38;5;241m.\u001b[39m, \u001b[38;5;28mself\u001b[39m\u001b[38;5;241m.\u001b[39mnum_train :, :]\u001b[38;5;241m.\u001b[39mto_dense()\n\u001b[1;32m    282\u001b[0m     test_test_covar \u001b[38;5;241m=\u001b[39m test_covar[\u001b[38;5;241m.\u001b[39m\u001b[38;5;241m.\u001b[39m\u001b[38;5;241m.\u001b[39m, \u001b[38;5;28mself\u001b[39m\u001b[38;5;241m.\u001b[39mnum_train :]\n\u001b[1;32m    283\u001b[0m     test_train_covar \u001b[38;5;241m=\u001b[39m test_covar[\u001b[38;5;241m.\u001b[39m\u001b[38;5;241m.\u001b[39m\u001b[38;5;241m.\u001b[39m, : \u001b[38;5;28mself\u001b[39m\u001b[38;5;241m.\u001b[39mnum_train]\n",
      "File \u001b[0;32m~/miniconda3/envs/OpenFOAM/lib/python3.11/site-packages/gpytorch/utils/memoize.py:59\u001b[0m, in \u001b[0;36m_cached.<locals>.g\u001b[0;34m(self, *args, **kwargs)\u001b[0m\n\u001b[1;32m     57\u001b[0m kwargs_pkl \u001b[38;5;241m=\u001b[39m pickle\u001b[38;5;241m.\u001b[39mdumps(kwargs)\n\u001b[1;32m     58\u001b[0m \u001b[38;5;28;01mif\u001b[39;00m \u001b[38;5;129;01mnot\u001b[39;00m _is_in_cache(\u001b[38;5;28mself\u001b[39m, cache_name, \u001b[38;5;241m*\u001b[39margs, kwargs_pkl\u001b[38;5;241m=\u001b[39mkwargs_pkl):\n\u001b[0;32m---> 59\u001b[0m     \u001b[38;5;28;01mreturn\u001b[39;00m _add_to_cache(\u001b[38;5;28mself\u001b[39m, cache_name, method(\u001b[38;5;28mself\u001b[39m, \u001b[38;5;241m*\u001b[39margs, \u001b[38;5;241m*\u001b[39m\u001b[38;5;241m*\u001b[39mkwargs), \u001b[38;5;241m*\u001b[39margs, kwargs_pkl\u001b[38;5;241m=\u001b[39mkwargs_pkl)\n\u001b[1;32m     60\u001b[0m \u001b[38;5;28;01mreturn\u001b[39;00m _get_from_cache(\u001b[38;5;28mself\u001b[39m, cache_name, \u001b[38;5;241m*\u001b[39margs, kwargs_pkl\u001b[38;5;241m=\u001b[39mkwargs_pkl)\n",
      "File \u001b[0;32m~/miniconda3/envs/OpenFOAM/lib/python3.11/site-packages/gpytorch/lazy/lazy_evaluated_kernel_tensor.py:410\u001b[0m, in \u001b[0;36mLazyEvaluatedKernelTensor.to_dense\u001b[0;34m(self)\u001b[0m\n\u001b[1;32m    408\u001b[0m \u001b[38;5;129m@cached\u001b[39m\n\u001b[1;32m    409\u001b[0m \u001b[38;5;28;01mdef\u001b[39;00m \u001b[38;5;21mto_dense\u001b[39m(\u001b[38;5;28mself\u001b[39m):\n\u001b[0;32m--> 410\u001b[0m     \u001b[38;5;28;01mreturn\u001b[39;00m \u001b[38;5;28mself\u001b[39m\u001b[38;5;241m.\u001b[39mevaluate_kernel()\u001b[38;5;241m.\u001b[39mto_dense()\n",
      "File \u001b[0;32m~/miniconda3/envs/OpenFOAM/lib/python3.11/site-packages/gpytorch/utils/memoize.py:59\u001b[0m, in \u001b[0;36m_cached.<locals>.g\u001b[0;34m(self, *args, **kwargs)\u001b[0m\n\u001b[1;32m     57\u001b[0m kwargs_pkl \u001b[38;5;241m=\u001b[39m pickle\u001b[38;5;241m.\u001b[39mdumps(kwargs)\n\u001b[1;32m     58\u001b[0m \u001b[38;5;28;01mif\u001b[39;00m \u001b[38;5;129;01mnot\u001b[39;00m _is_in_cache(\u001b[38;5;28mself\u001b[39m, cache_name, \u001b[38;5;241m*\u001b[39margs, kwargs_pkl\u001b[38;5;241m=\u001b[39mkwargs_pkl):\n\u001b[0;32m---> 59\u001b[0m     \u001b[38;5;28;01mreturn\u001b[39;00m _add_to_cache(\u001b[38;5;28mself\u001b[39m, cache_name, method(\u001b[38;5;28mself\u001b[39m, \u001b[38;5;241m*\u001b[39margs, \u001b[38;5;241m*\u001b[39m\u001b[38;5;241m*\u001b[39mkwargs), \u001b[38;5;241m*\u001b[39margs, kwargs_pkl\u001b[38;5;241m=\u001b[39mkwargs_pkl)\n\u001b[1;32m     60\u001b[0m \u001b[38;5;28;01mreturn\u001b[39;00m _get_from_cache(\u001b[38;5;28mself\u001b[39m, cache_name, \u001b[38;5;241m*\u001b[39margs, kwargs_pkl\u001b[38;5;241m=\u001b[39mkwargs_pkl)\n",
      "File \u001b[0;32m~/miniconda3/envs/OpenFOAM/lib/python3.11/site-packages/gpytorch/lazy/lazy_evaluated_kernel_tensor.py:25\u001b[0m, in \u001b[0;36mrecall_grad_state.<locals>.wrapped\u001b[0;34m(self, *args, **kwargs)\u001b[0m\n\u001b[1;32m     22\u001b[0m \u001b[38;5;129m@functools\u001b[39m\u001b[38;5;241m.\u001b[39mwraps(method)\n\u001b[1;32m     23\u001b[0m \u001b[38;5;28;01mdef\u001b[39;00m \u001b[38;5;21mwrapped\u001b[39m(\u001b[38;5;28mself\u001b[39m, \u001b[38;5;241m*\u001b[39margs, \u001b[38;5;241m*\u001b[39m\u001b[38;5;241m*\u001b[39mkwargs):\n\u001b[1;32m     24\u001b[0m     \u001b[38;5;28;01mwith\u001b[39;00m torch\u001b[38;5;241m.\u001b[39mset_grad_enabled(\u001b[38;5;28mself\u001b[39m\u001b[38;5;241m.\u001b[39m_is_grad_enabled):\n\u001b[0;32m---> 25\u001b[0m         output \u001b[38;5;241m=\u001b[39m method(\u001b[38;5;28mself\u001b[39m, \u001b[38;5;241m*\u001b[39margs, \u001b[38;5;241m*\u001b[39m\u001b[38;5;241m*\u001b[39mkwargs)\n\u001b[1;32m     26\u001b[0m     \u001b[38;5;28;01mreturn\u001b[39;00m output\n",
      "File \u001b[0;32m~/miniconda3/envs/OpenFOAM/lib/python3.11/site-packages/gpytorch/lazy/lazy_evaluated_kernel_tensor.py:355\u001b[0m, in \u001b[0;36mLazyEvaluatedKernelTensor.evaluate_kernel\u001b[0;34m(self)\u001b[0m\n\u001b[1;32m    353\u001b[0m     temp_active_dims \u001b[38;5;241m=\u001b[39m \u001b[38;5;28mself\u001b[39m\u001b[38;5;241m.\u001b[39mkernel\u001b[38;5;241m.\u001b[39mactive_dims\n\u001b[1;32m    354\u001b[0m     \u001b[38;5;28mself\u001b[39m\u001b[38;5;241m.\u001b[39mkernel\u001b[38;5;241m.\u001b[39mactive_dims \u001b[38;5;241m=\u001b[39m \u001b[38;5;28;01mNone\u001b[39;00m\n\u001b[0;32m--> 355\u001b[0m     res \u001b[38;5;241m=\u001b[39m \u001b[38;5;28mself\u001b[39m\u001b[38;5;241m.\u001b[39mkernel(\n\u001b[1;32m    356\u001b[0m         x1,\n\u001b[1;32m    357\u001b[0m         x2,\n\u001b[1;32m    358\u001b[0m         diag\u001b[38;5;241m=\u001b[39m\u001b[38;5;28;01mFalse\u001b[39;00m,\n\u001b[1;32m    359\u001b[0m         last_dim_is_batch\u001b[38;5;241m=\u001b[39m\u001b[38;5;28mself\u001b[39m\u001b[38;5;241m.\u001b[39mlast_dim_is_batch,\n\u001b[1;32m    360\u001b[0m         \u001b[38;5;241m*\u001b[39m\u001b[38;5;241m*\u001b[39m\u001b[38;5;28mself\u001b[39m\u001b[38;5;241m.\u001b[39mparams,\n\u001b[1;32m    361\u001b[0m     )\n\u001b[1;32m    362\u001b[0m     \u001b[38;5;28mself\u001b[39m\u001b[38;5;241m.\u001b[39mkernel\u001b[38;5;241m.\u001b[39mactive_dims \u001b[38;5;241m=\u001b[39m temp_active_dims\n\u001b[1;32m    364\u001b[0m \u001b[38;5;66;03m# Check the size of the output\u001b[39;00m\n",
      "File \u001b[0;32m~/miniconda3/envs/OpenFOAM/lib/python3.11/site-packages/gpytorch/kernels/kernel.py:530\u001b[0m, in \u001b[0;36mKernel.__call__\u001b[0;34m(self, x1, x2, diag, last_dim_is_batch, **params)\u001b[0m\n\u001b[1;32m    527\u001b[0m     res \u001b[38;5;241m=\u001b[39m LazyEvaluatedKernelTensor(x1_, x2_, kernel\u001b[38;5;241m=\u001b[39m\u001b[38;5;28mself\u001b[39m, last_dim_is_batch\u001b[38;5;241m=\u001b[39mlast_dim_is_batch, \u001b[38;5;241m*\u001b[39m\u001b[38;5;241m*\u001b[39mparams)\n\u001b[1;32m    528\u001b[0m \u001b[38;5;28;01melse\u001b[39;00m:\n\u001b[1;32m    529\u001b[0m     res \u001b[38;5;241m=\u001b[39m to_linear_operator(\n\u001b[0;32m--> 530\u001b[0m         \u001b[38;5;28msuper\u001b[39m(Kernel, \u001b[38;5;28mself\u001b[39m)\u001b[38;5;241m.\u001b[39m\u001b[38;5;21m__call__\u001b[39m(x1_, x2_, last_dim_is_batch\u001b[38;5;241m=\u001b[39mlast_dim_is_batch, \u001b[38;5;241m*\u001b[39m\u001b[38;5;241m*\u001b[39mparams)\n\u001b[1;32m    531\u001b[0m     )\n\u001b[1;32m    532\u001b[0m \u001b[38;5;28;01mreturn\u001b[39;00m res\n",
      "File \u001b[0;32m~/miniconda3/envs/OpenFOAM/lib/python3.11/site-packages/gpytorch/module.py:31\u001b[0m, in \u001b[0;36mModule.__call__\u001b[0;34m(self, *inputs, **kwargs)\u001b[0m\n\u001b[1;32m     30\u001b[0m \u001b[38;5;28;01mdef\u001b[39;00m \u001b[38;5;21m__call__\u001b[39m(\u001b[38;5;28mself\u001b[39m, \u001b[38;5;241m*\u001b[39minputs, \u001b[38;5;241m*\u001b[39m\u001b[38;5;241m*\u001b[39mkwargs) \u001b[38;5;241m-\u001b[39m\u001b[38;5;241m>\u001b[39m Union[Tensor, Distribution, LinearOperator]:\n\u001b[0;32m---> 31\u001b[0m     outputs \u001b[38;5;241m=\u001b[39m \u001b[38;5;28mself\u001b[39m\u001b[38;5;241m.\u001b[39mforward(\u001b[38;5;241m*\u001b[39minputs, \u001b[38;5;241m*\u001b[39m\u001b[38;5;241m*\u001b[39mkwargs)\n\u001b[1;32m     32\u001b[0m     \u001b[38;5;28;01mif\u001b[39;00m \u001b[38;5;28misinstance\u001b[39m(outputs, \u001b[38;5;28mlist\u001b[39m):\n\u001b[1;32m     33\u001b[0m         \u001b[38;5;28;01mreturn\u001b[39;00m [_validate_module_outputs(output) \u001b[38;5;28;01mfor\u001b[39;00m output \u001b[38;5;129;01min\u001b[39;00m outputs]\n",
      "File \u001b[0;32m~/miniconda3/envs/OpenFOAM/lib/python3.11/site-packages/gpytorch/kernels/scale_kernel.py:109\u001b[0m, in \u001b[0;36mScaleKernel.forward\u001b[0;34m(self, x1, x2, last_dim_is_batch, diag, **params)\u001b[0m\n\u001b[1;32m    108\u001b[0m \u001b[38;5;28;01mdef\u001b[39;00m \u001b[38;5;21mforward\u001b[39m(\u001b[38;5;28mself\u001b[39m, x1, x2, last_dim_is_batch\u001b[38;5;241m=\u001b[39m\u001b[38;5;28;01mFalse\u001b[39;00m, diag\u001b[38;5;241m=\u001b[39m\u001b[38;5;28;01mFalse\u001b[39;00m, \u001b[38;5;241m*\u001b[39m\u001b[38;5;241m*\u001b[39mparams):\n\u001b[0;32m--> 109\u001b[0m     orig_output \u001b[38;5;241m=\u001b[39m \u001b[38;5;28mself\u001b[39m\u001b[38;5;241m.\u001b[39mbase_kernel\u001b[38;5;241m.\u001b[39mforward(x1, x2, diag\u001b[38;5;241m=\u001b[39mdiag, last_dim_is_batch\u001b[38;5;241m=\u001b[39mlast_dim_is_batch, \u001b[38;5;241m*\u001b[39m\u001b[38;5;241m*\u001b[39mparams)\n\u001b[1;32m    110\u001b[0m     outputscales \u001b[38;5;241m=\u001b[39m \u001b[38;5;28mself\u001b[39m\u001b[38;5;241m.\u001b[39moutputscale\n\u001b[1;32m    111\u001b[0m     \u001b[38;5;28;01mif\u001b[39;00m last_dim_is_batch:\n",
      "File \u001b[0;32m~/miniconda3/envs/OpenFOAM/lib/python3.11/site-packages/gpytorch/kernels/rbf_kernel.py:80\u001b[0m, in \u001b[0;36mRBFKernel.forward\u001b[0;34m(self, x1, x2, diag, **params)\u001b[0m\n\u001b[1;32m     78\u001b[0m     x2_ \u001b[38;5;241m=\u001b[39m x2\u001b[38;5;241m.\u001b[39mdiv(\u001b[38;5;28mself\u001b[39m\u001b[38;5;241m.\u001b[39mlengthscale)\n\u001b[1;32m     79\u001b[0m     \u001b[38;5;28;01mreturn\u001b[39;00m postprocess_rbf(\u001b[38;5;28mself\u001b[39m\u001b[38;5;241m.\u001b[39mcovar_dist(x1_, x2_, square_dist\u001b[38;5;241m=\u001b[39m\u001b[38;5;28;01mTrue\u001b[39;00m, diag\u001b[38;5;241m=\u001b[39mdiag, \u001b[38;5;241m*\u001b[39m\u001b[38;5;241m*\u001b[39mparams))\n\u001b[0;32m---> 80\u001b[0m \u001b[38;5;28;01mreturn\u001b[39;00m RBFCovariance\u001b[38;5;241m.\u001b[39mapply(\n\u001b[1;32m     81\u001b[0m     x1,\n\u001b[1;32m     82\u001b[0m     x2,\n\u001b[1;32m     83\u001b[0m     \u001b[38;5;28mself\u001b[39m\u001b[38;5;241m.\u001b[39mlengthscale,\n\u001b[1;32m     84\u001b[0m     \u001b[38;5;28;01mlambda\u001b[39;00m x1, x2: \u001b[38;5;28mself\u001b[39m\u001b[38;5;241m.\u001b[39mcovar_dist(x1, x2, square_dist\u001b[38;5;241m=\u001b[39m\u001b[38;5;28;01mTrue\u001b[39;00m, diag\u001b[38;5;241m=\u001b[39m\u001b[38;5;28;01mFalse\u001b[39;00m, \u001b[38;5;241m*\u001b[39m\u001b[38;5;241m*\u001b[39mparams),\n\u001b[1;32m     85\u001b[0m )\n",
      "File \u001b[0;32m~/miniconda3/envs/OpenFOAM/lib/python3.11/site-packages/torch/autograd/function.py:506\u001b[0m, in \u001b[0;36mFunction.apply\u001b[0;34m(cls, *args, **kwargs)\u001b[0m\n\u001b[1;32m    503\u001b[0m \u001b[38;5;28;01mif\u001b[39;00m \u001b[38;5;129;01mnot\u001b[39;00m torch\u001b[38;5;241m.\u001b[39m_C\u001b[38;5;241m.\u001b[39m_are_functorch_transforms_active():\n\u001b[1;32m    504\u001b[0m     \u001b[38;5;66;03m# See NOTE: [functorch vjp and autograd interaction]\u001b[39;00m\n\u001b[1;32m    505\u001b[0m     args \u001b[38;5;241m=\u001b[39m _functorch\u001b[38;5;241m.\u001b[39mutils\u001b[38;5;241m.\u001b[39munwrap_dead_wrappers(args)\n\u001b[0;32m--> 506\u001b[0m     \u001b[38;5;28;01mreturn\u001b[39;00m \u001b[38;5;28msuper\u001b[39m()\u001b[38;5;241m.\u001b[39mapply(\u001b[38;5;241m*\u001b[39margs, \u001b[38;5;241m*\u001b[39m\u001b[38;5;241m*\u001b[39mkwargs)  \u001b[38;5;66;03m# type: ignore[misc]\u001b[39;00m\n\u001b[1;32m    508\u001b[0m \u001b[38;5;28;01mif\u001b[39;00m \u001b[38;5;28mcls\u001b[39m\u001b[38;5;241m.\u001b[39msetup_context \u001b[38;5;241m==\u001b[39m _SingleLevelFunction\u001b[38;5;241m.\u001b[39msetup_context:\n\u001b[1;32m    509\u001b[0m     \u001b[38;5;28;01mraise\u001b[39;00m \u001b[38;5;167;01mRuntimeError\u001b[39;00m(\n\u001b[1;32m    510\u001b[0m         \u001b[38;5;124m'\u001b[39m\u001b[38;5;124mIn order to use an autograd.Function with functorch transforms \u001b[39m\u001b[38;5;124m'\u001b[39m\n\u001b[1;32m    511\u001b[0m         \u001b[38;5;124m'\u001b[39m\u001b[38;5;124m(vmap, grad, jvp, jacrev, ...), it must override the setup_context \u001b[39m\u001b[38;5;124m'\u001b[39m\n\u001b[1;32m    512\u001b[0m         \u001b[38;5;124m'\u001b[39m\u001b[38;5;124mstaticmethod. For more details, please see \u001b[39m\u001b[38;5;124m'\u001b[39m\n\u001b[1;32m    513\u001b[0m         \u001b[38;5;124m'\u001b[39m\u001b[38;5;124mhttps://pytorch.org/docs/master/notes/extending.func.html\u001b[39m\u001b[38;5;124m'\u001b[39m)\n",
      "File \u001b[0;32m~/miniconda3/envs/OpenFOAM/lib/python3.11/site-packages/gpytorch/functions/rbf_covariance.py:17\u001b[0m, in \u001b[0;36mRBFCovariance.forward\u001b[0;34m(ctx, x1, x2, lengthscale, sq_dist_func)\u001b[0m\n\u001b[1;32m     15\u001b[0m \u001b[38;5;66;03m# clone because inplace operations will mess with what's saved for backward\u001b[39;00m\n\u001b[1;32m     16\u001b[0m unitless_sq_dist_ \u001b[38;5;241m=\u001b[39m unitless_sq_dist\u001b[38;5;241m.\u001b[39mclone() \u001b[38;5;28;01mif\u001b[39;00m needs_grad \u001b[38;5;28;01melse\u001b[39;00m unitless_sq_dist\n\u001b[0;32m---> 17\u001b[0m covar_mat \u001b[38;5;241m=\u001b[39m unitless_sq_dist_\u001b[38;5;241m.\u001b[39mdiv_(\u001b[38;5;241m-\u001b[39m\u001b[38;5;241m2.0\u001b[39m)\u001b[38;5;241m.\u001b[39mexp_()\n\u001b[1;32m     18\u001b[0m \u001b[38;5;28;01mif\u001b[39;00m needs_grad:\n\u001b[1;32m     19\u001b[0m     d_output_d_input \u001b[38;5;241m=\u001b[39m unitless_sq_dist\u001b[38;5;241m.\u001b[39mmul_(covar_mat)\u001b[38;5;241m.\u001b[39mdiv_(lengthscale)\n",
      "\u001b[0;31mKeyboardInterrupt\u001b[0m: "
     ]
    }
   ],
   "source": [
    "weights = np.array((0.5, 0.5))\n",
    "functionDict = {\n",
    "                # func.binhAndKorn:[(0,5), (0,3)]\n",
    "                # func.chankongHaimes:[(-20,20), (-20,20)]\n",
    "                func.fonsecaFleming:[(-4,4), (-4,4)] \n",
    "                # func.ctp1:[(0,1), (0,1)], \n",
    "                # func.constrEx:[(0.1,1), (0,5)]\n",
    "                # func.testFunction4:[(-7,4), (-7,4)]\n",
    "                }\n",
    "\n",
    "for key, value in functionDict.items():\n",
    "\n",
    "    print(key.__name__, value)\n",
    "\n",
    "    initSampleSize = 20\n",
    "    bounds = np.array(value)\n",
    "    lowBounds = bounds[:,0]\n",
    "    highBounds = bounds[:,1]\n",
    "\n",
    "\n",
    "    #generate one LHS for each test function, to be used for all optimisers/scalarisers\n",
    "    #using a population size of 20\n",
    "    sampler = qmc.LatinHypercube(d=len(bounds))\n",
    "    sample = sampler.random(n=initSampleSize)\n",
    "    initPopulation = qmc.scale(sample, lowBounds, highBounds)\n",
    "\n",
    "    #check for and systematically replace nan values in initial population\n",
    "    #(requires evaluating initial population)\n",
    "    #TODO: this evaluation is currently repeated when initiating each SAEA.\n",
    "    \n",
    "    objvTargets = np.empty((0,2))\n",
    "\n",
    "    for i in range(0, initSampleSize):\n",
    "\n",
    "        newObjvTgt = opt.MOobjective_function(initPopulation[i], key, len(bounds))\n",
    "        # print(newObjvTgt)\n",
    "        while np.any(np.isnan(newObjvTgt)):\n",
    "            newSample = np.random.uniform(lowBounds, high=highBounds, size=(2,))\n",
    "            newObjvTgt = opt.MOobjective_function(newSample, key, len(bounds))\n",
    "            initPopulation[i] = newSample\n",
    "\n",
    "        # objvTargets = np.vstack((objvTargets, newObjvTgt))\n",
    "\n",
    "    print('Initial Population:')\n",
    "    print(initPopulation)\n",
    "\n",
    "    LSADE = opt.LSADE(value, 20, key, func.chebyshev, 2, weights, useInitialPopulation=True, initialPopulation=initPopulation)\n",
    "    LSADE.optimizerStep()\n",
    "\n",
    "    # bayesianRun = opt.bayesianOptimiser(value, 15, key, func.HypI, 2, weights, useInitialPopulation=True, initialPopulation=initPopulation)\n",
    "    # bayesianRun.runOptimiser()"
   ]
  }
 ],
 "metadata": {
  "kernelspec": {
   "display_name": "OpenFOAM",
   "language": "python",
   "name": "python3"
  },
  "language_info": {
   "codemirror_mode": {
    "name": "ipython",
    "version": 3
   },
   "file_extension": ".py",
   "mimetype": "text/x-python",
   "name": "python",
   "nbconvert_exporter": "python",
   "pygments_lexer": "ipython3",
   "version": "3.11.5"
  }
 },
 "nbformat": 4,
 "nbformat_minor": 2
}
