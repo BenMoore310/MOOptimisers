{
 "cells": [
  {
   "cell_type": "code",
   "execution_count": 23,
   "metadata": {},
   "outputs": [],
   "source": [
    "import optimiserBank as opt\n",
    "import functionBank as func\n",
    "import matplotlib.pyplot as plt\n",
    "import importlib\n",
    "importlib.reload(opt)\n",
    "importlib.reload(func)\n",
    "import numpy as np\n",
    "import matplotlib.pyplot as plt\n",
    "from scipy.stats import qmc "
   ]
  },
  {
   "cell_type": "code",
   "execution_count": 25,
   "metadata": {},
   "outputs": [
    {
     "name": "stdout",
     "output_type": "stream",
     "text": [
      "Initial Population:\n"
     ]
    },
    {
     "data": {
      "image/png": "[encoded data removed]",
      "text/plain": [
       "<Figure size 640x480 with 1 Axes>"
      ]
     },
     "metadata": {},
     "output_type": "display_data"
    },
    {
     "name": "stdout",
     "output_type": "stream",
     "text": [
      "[[nan nan]]\n",
      "[[nan nan]]\n",
      "[[nan nan]]\n",
      "[[ 90.73432035 -33.32793118]]\n",
      "[[nan nan]]\n",
      "[[nan nan]]\n",
      "[[nan nan]]\n",
      "[[nan nan]]\n",
      "[[nan nan]]\n",
      "[[ 185.91869053 -177.55403326]]\n",
      "[[nan nan]]\n",
      "[[nan nan]]\n",
      "[[nan nan]]\n",
      "[[ 114.04166999 -113.80367826]]\n",
      "[[nan nan]]\n",
      "[[nan nan]]\n",
      "[[nan nan]]\n",
      "[[102.03327368 -72.41379685]]\n",
      "[[nan nan]]\n",
      "[[nan nan]]\n",
      "[[ 100.08204883    5.06852536]\n",
      " [  84.00303176  -58.56716812]\n",
      " [  95.66073612  -73.45511159]\n",
      " [  90.73432035  -33.32793118]\n",
      " [ 201.8311228  -139.78679358]\n",
      " [ 100.15524925  -53.32234604]\n",
      " [ 158.07611884    7.33943445]\n",
      " [ 211.15306526 -112.18796054]\n",
      " [ 191.81477996 -159.3634656 ]\n",
      " [ 185.91869053 -177.55403326]\n",
      " [  15.31782538    8.82287765]\n",
      " [ 179.14400023 -176.14985262]\n",
      " [ 228.46179223 -124.25135854]\n",
      " [ 114.04166999 -113.80367826]\n",
      " [  55.15648603  -45.4833036 ]\n",
      " [ 133.17295164 -114.44600135]\n",
      " [ 198.69898606 -109.02662159]\n",
      " [ 102.03327368  -72.41379685]\n",
      " [ 149.30695433 -125.34143401]\n",
      " [ 131.72023135  -88.37987527]]\n"
     ]
    },
    {
     "data": {
      "image/png": "[encoded data removed]",
      "text/plain": [
       "<Figure size 640x480 with 1 Axes>"
      ]
     },
     "metadata": {},
     "output_type": "display_data"
    }
   ],
   "source": [
    "bounds = np.array([(-20,20), (-20,20)])\n",
    "sampler = qmc.LatinHypercube(d=len(bounds))\n",
    "sample = sampler.random(n=20)\n",
    "initPopulation = qmc.scale(sample, bounds[:, 0], bounds[:, 1])\n",
    "print('Initial Population:')\n",
    "# print(initPopulation)\n",
    "plt.scatter(initPopulation[:,0], initPopulation[:,1])\n",
    "plt.show()\n",
    "\n",
    "objvTargets = np.empty((0,2))\n",
    "\n",
    "for i in range(0, 20):\n",
    "\n",
    "    newObjvTgt = opt.MOobjective_function(initPopulation[i], func.chankongHaimes, 2)\n",
    "    print(newObjvTgt)\n",
    "    while np.any(np.isnan(newObjvTgt)):\n",
    "        newSample = np.random.uniform(-20, high=20, size=(2,))\n",
    "        newObjvTgt = opt.MOobjective_function(newSample, func.chankongHaimes, 2)\n",
    "\n",
    "    objvTargets = np.vstack((objvTargets, newObjvTgt))\n",
    "\n",
    "print(objvTargets)\n",
    "\n",
    "plt.scatter(objvTargets[:,0], objvTargets[:,1])\n",
    "plt.show()"
   ]
  },
  {
   "cell_type": "code",
   "execution_count": 109,
   "metadata": {},
   "outputs": [
    {
     "name": "stdout",
     "output_type": "stream",
     "text": [
      "NaN values found at indices: [ 0  1  2  4  5  6  7  9 10 11 12 13 14 15 16 17 18]\n",
      "No NaN values found.\n",
      "NaN values found at indices: [4]\n"
     ]
    },
    {
     "ename": "IndexError",
     "evalue": "index 4 is out of bounds for axis 0 with size 4",
     "output_type": "error",
     "traceback": [
      "\u001b[0;31m---------------------------------------------------------------------------\u001b[0m",
      "\u001b[0;31mIndexError\u001b[0m                                Traceback (most recent call last)",
      "Cell \u001b[0;32mIn[109], line 6\u001b[0m\n\u001b[1;32m      1\u001b[0m \u001b[38;5;66;03m# PSO = opt.TS_DDEO(bounds, 20, func.binhAndKorn, func.chebyshev, 2, np.array((0.5, 0.5)), useInitialPopulation=True, initialPopulation=initPopulation)\u001b[39;00m\n\u001b[1;32m      2\u001b[0m \u001b[38;5;66;03m# PSO.stage1()\u001b[39;00m\n\u001b[1;32m      3\u001b[0m \u001b[38;5;66;03m# PSO.stage2()\u001b[39;00m\n\u001b[1;32m      5\u001b[0m LSADE \u001b[38;5;241m=\u001b[39m opt\u001b[38;5;241m.\u001b[39mLSADE(bounds, \u001b[38;5;241m20\u001b[39m, func\u001b[38;5;241m.\u001b[39mchankongHaimes, func\u001b[38;5;241m.\u001b[39mchebyshev, \u001b[38;5;241m2\u001b[39m, np\u001b[38;5;241m.\u001b[39marray((\u001b[38;5;241m0.5\u001b[39m, \u001b[38;5;241m0.5\u001b[39m)), useInitialPopulation\u001b[38;5;241m=\u001b[39m\u001b[38;5;28;01mTrue\u001b[39;00m, initialPopulation\u001b[38;5;241m=\u001b[39minitPopulation)\n\u001b[0;32m----> 6\u001b[0m LSADE\u001b[38;5;241m.\u001b[39moptimizerStep()\n",
      "File \u001b[0;32m~/projects/elgarMOOOpt/optimiserBank.py:1468\u001b[0m, in \u001b[0;36mLSADE.optimizerStep\u001b[0;34m(self)\u001b[0m\n\u001b[1;32m   1451\u001b[0m Z_under \u001b[38;5;241m=\u001b[39m lipschitz_global_underestimate(\n\u001b[1;32m   1452\u001b[0m     \u001b[38;5;28mself\u001b[39m\u001b[38;5;241m.\u001b[39mscalarisedTargets, \u001b[38;5;28mself\u001b[39m\u001b[38;5;241m.\u001b[39mfeFeatures, L_est, fullRangeArray\n\u001b[1;32m   1453\u001b[0m )\n\u001b[1;32m   1455\u001b[0m \u001b[38;5;66;03m# plt.scatter(fullRangeArray[:,0], fullRangeArray[:,1], c = Z_under)\u001b[39;00m\n\u001b[1;32m   1456\u001b[0m \n\u001b[1;32m   1457\u001b[0m \u001b[38;5;66;03m# plt.scatter(self.population[:, 0], self.population[:, 1], color='red', label='Final Population', s=5)\u001b[39;00m\n\u001b[0;32m   (...)\u001b[0m\n\u001b[1;32m   1465\u001b[0m \n\u001b[1;32m   1466\u001b[0m \u001b[38;5;66;03m# construct local RBF using c best solutions, find minima using DE, and evaluate at that minima\u001b[39;00m\n\u001b[0;32m-> 1468\u001b[0m bestLocalSolution \u001b[38;5;241m=\u001b[39m \u001b[38;5;28mself\u001b[39m\u001b[38;5;241m.\u001b[39mlocalRBF(\u001b[38;5;241m15\u001b[39m)\n\u001b[1;32m   1470\u001b[0m bestLocalSolution \u001b[38;5;241m=\u001b[39m np\u001b[38;5;241m.\u001b[39mreshape(bestLocalSolution, (\u001b[38;5;241m2\u001b[39m,))\n\u001b[1;32m   1472\u001b[0m \u001b[38;5;28mprint\u001b[39m(\u001b[38;5;124m\"\u001b[39m\u001b[38;5;124mbest local Solution\u001b[39m\u001b[38;5;124m\"\u001b[39m, bestLocalSolution)\n",
      "File \u001b[0;32m~/projects/elgarMOOOpt/optimiserBank.py:1317\u001b[0m, in \u001b[0;36mLSADE.localRBF\u001b[0;34m(self, numSolutions)\u001b[0m\n\u001b[1;32m   1314\u001b[0m bestIndices \u001b[38;5;241m=\u001b[39m np\u001b[38;5;241m.\u001b[39margsort(\u001b[38;5;28mself\u001b[39m\u001b[38;5;241m.\u001b[39mscalarisedTargets)[:numSolutions]\n\u001b[1;32m   1316\u001b[0m \u001b[38;5;28;01mfor\u001b[39;00m i \u001b[38;5;129;01min\u001b[39;00m \u001b[38;5;28mrange\u001b[39m(numSolutions):\n\u001b[0;32m-> 1317\u001b[0m     bestFeatures[i] \u001b[38;5;241m=\u001b[39m \u001b[38;5;28mself\u001b[39m\u001b[38;5;241m.\u001b[39mfeFeatures[bestIndices[i]]\n\u001b[1;32m   1318\u001b[0m     bestTargets[i] \u001b[38;5;241m=\u001b[39m \u001b[38;5;28mself\u001b[39m\u001b[38;5;241m.\u001b[39mscalarisedTargets[bestIndices[i]]\n\u001b[1;32m   1320\u001b[0m x_min, x_max \u001b[38;5;241m=\u001b[39m np\u001b[38;5;241m.\u001b[39mmin(bestFeatures[:, \u001b[38;5;241m0\u001b[39m]), np\u001b[38;5;241m.\u001b[39mmax(bestFeatures[:, \u001b[38;5;241m0\u001b[39m])\n",
      "\u001b[0;31mIndexError\u001b[0m: index 4 is out of bounds for axis 0 with size 4"
     ]
    }
   ],
   "source": [
    "# PSO = opt.TS_DDEO(bounds, 20, func.binhAndKorn, func.chebyshev, 2, np.array((0.5, 0.5)), useInitialPopulation=True, initialPopulation=initPopulation)\n",
    "# PSO.stage1()\n",
    "# PSO.stage2()\n",
    "\n",
    "LSADE = opt.LSADE(bounds, 20, func.chankongHaimes, func.chebyshev, 2, np.array((0.5, 0.5)), useInitialPopulation=True, initialPopulation=initPopulation)\n",
    "LSADE.optimizerStep()"
   ]
  },
  {
   "cell_type": "code",
   "execution_count": 112,
   "metadata": {},
   "outputs": [
    {
     "name": "stdout",
     "output_type": "stream",
     "text": [
      "[0 0] [5 3]\n",
      "[2.54045175 0.81288387]\n"
     ]
    }
   ],
   "source": [
    "bounds = np.array([(0,5), (0,3)])\n",
    "\n",
    "\n",
    "low = bounds[:,0]\n",
    "high = bounds[:,1]\n",
    "print(low, high)\n",
    "\n",
    "array = np.random.uniform(low, high, size=(2,))\n",
    "\n",
    "print(array)"
   ]
  }
 ],
 "metadata": {
  "kernelspec": {
   "display_name": "OpenFOAM",
   "language": "python",
   "name": "python3"
  },
  "language_info": {
   "codemirror_mode": {
    "name": "ipython",
    "version": 3
   },
   "file_extension": ".py",
   "mimetype": "text/x-python",
   "name": "python",
   "nbconvert_exporter": "python",
   "pygments_lexer": "ipython3",
   "version": "3.11.5"
  }
 },
 "nbformat": 4,
 "nbformat_minor": 2
}
