{
 "cells": [
  {
   "cell_type": "code",
   "execution_count": 27,
   "metadata": {},
   "outputs": [],
   "source": [
    "import optimiserBank as opt\n",
    "import functionBank as func\n",
    "import matplotlib.pyplot as plt\n",
    "import importlib\n",
    "importlib.reload(opt)\n",
    "importlib.reload(func)\n",
    "import numpy as np\n",
    "import matplotlib.pyplot as plt\n",
    "from scipy.stats import qmc "
   ]
  },
  {
   "cell_type": "code",
   "execution_count": 28,
   "metadata": {},
   "outputs": [
    {
     "name": "stdout",
     "output_type": "stream",
     "text": [
      "Initial Population:\n",
      "[[4.33527599 2.50727746]\n",
      " [3.47698386 2.26292899]\n",
      " [3.97542538 1.7313913 ]\n",
      " [4.06612145 2.89219204]\n",
      " [1.05155496 1.61690783]\n",
      " [0.78165744 1.39531283]\n",
      " [2.03210555 2.7373476 ]\n",
      " [1.92223206 1.01742233]\n",
      " [2.92833486 1.30288669]\n",
      " [3.24756164 0.59685682]\n",
      " [1.39360459 0.35700567]\n",
      " [3.73000113 1.81964607]\n",
      " [0.3673097  0.73697156]\n",
      " [4.69588772 2.24791641]\n",
      " [4.92888956 0.23747813]\n",
      " [2.42626469 2.08996837]\n",
      " [1.51979815 0.13392492]\n",
      " [0.06953831 0.87386679]\n",
      " [0.71465235 2.64366578]\n",
      " [2.59931924 1.08301318]]\n"
     ]
    }
   ],
   "source": [
    "bounds = np.array([(0,5), (0,3)])\n",
    "sampler = qmc.LatinHypercube(d=len(bounds))\n",
    "sample = sampler.random(n=20)\n",
    "initPopulation = qmc.scale(sample, bounds[:, 0], bounds[:, 1])\n",
    "print('Initial Population:')\n",
    "print(initPopulation)"
   ]
  },
  {
   "cell_type": "code",
   "execution_count": 29,
   "metadata": {},
   "outputs": [
    {
     "name": "stdout",
     "output_type": "stream",
     "text": [
      "NaN values found at indices: [17 18]\n",
      "(18, 2)\n",
      "Generation 200: Best RBF Fitness = [0.18825683]\n",
      "(2,)\n",
      "No NaN values found.\n",
      "No NaN values found.\n",
      "Iteration 2: Best Fitness = 0.16334499981726647\n",
      "Generation 200: Best RBF Fitness = [0.17567558]\n",
      "(2,)\n",
      "No NaN values found.\n",
      "NaN values found at indices: [39]\n",
      "Iteration 3: Best Fitness = 0.16330348391464627\n",
      "Generation 200: Best RBF Fitness = [0.17485993]\n",
      "(2,)\n",
      "No NaN values found.\n",
      "No NaN values found.\n",
      "Iteration 4: Best Fitness = 0.16140683413454865\n"
     ]
    },
    {
     "ename": "KeyboardInterrupt",
     "evalue": "",
     "output_type": "error",
     "traceback": [
      "\u001b[0;31m---------------------------------------------------------------------------\u001b[0m",
      "\u001b[0;31mKeyboardInterrupt\u001b[0m                         Traceback (most recent call last)",
      "Cell \u001b[0;32mIn[29], line 2\u001b[0m\n\u001b[1;32m      1\u001b[0m PSO \u001b[38;5;241m=\u001b[39m opt\u001b[38;5;241m.\u001b[39mTS_DDEO(bounds, \u001b[38;5;241m20\u001b[39m, func\u001b[38;5;241m.\u001b[39mbinhAndKorn, func\u001b[38;5;241m.\u001b[39mchebyshev, \u001b[38;5;241m2\u001b[39m, np\u001b[38;5;241m.\u001b[39marray((\u001b[38;5;241m0.5\u001b[39m, \u001b[38;5;241m0.5\u001b[39m)), useInitialPopulation\u001b[38;5;241m=\u001b[39m\u001b[38;5;28;01mTrue\u001b[39;00m, initialPopulation\u001b[38;5;241m=\u001b[39minitPopulation)\n\u001b[0;32m----> 2\u001b[0m PSO\u001b[38;5;241m.\u001b[39mstage1()\n\u001b[1;32m      3\u001b[0m PSO\u001b[38;5;241m.\u001b[39mstage2()\n",
      "File \u001b[0;32m~/projects/elgarMOOOpt/optimiserBank.py:731\u001b[0m, in \u001b[0;36mTS_DDEO.stage1\u001b[0;34m(self)\u001b[0m\n\u001b[1;32m    729\u001b[0m GPModel \u001b[38;5;241m=\u001b[39m GPTrain(\u001b[38;5;28mself\u001b[39m\u001b[38;5;241m.\u001b[39mfeFeatures, \u001b[38;5;28mself\u001b[39m\u001b[38;5;241m.\u001b[39mscalarisedTargets, meanPrior\u001b[38;5;241m=\u001b[39m\u001b[38;5;124m\"\u001b[39m\u001b[38;5;124mzero\u001b[39m\u001b[38;5;124m\"\u001b[39m)\n\u001b[1;32m    730\u001b[0m globalDE \u001b[38;5;241m=\u001b[39m DifferentialEvolution(\u001b[38;5;28mself\u001b[39m\u001b[38;5;241m.\u001b[39mglobalBounds, GPModel)\n\u001b[0;32m--> 731\u001b[0m bestGPSolution, bestGPFitness \u001b[38;5;241m=\u001b[39m globalDE\u001b[38;5;241m.\u001b[39moptimize()\n\u001b[1;32m    733\u001b[0m \u001b[38;5;66;03m# Evaluate the found solution\u001b[39;00m\n\u001b[1;32m    734\u001b[0m bestGPSolution \u001b[38;5;241m=\u001b[39m np\u001b[38;5;241m.\u001b[39mreshape(bestGPSolution, (\u001b[38;5;28mself\u001b[39m\u001b[38;5;241m.\u001b[39mdimensions,))\n",
      "File \u001b[0;32m~/projects/elgarMOOOpt/optimiserBank.py:323\u001b[0m, in \u001b[0;36mDifferentialEvolution.optimize\u001b[0;34m(self)\u001b[0m\n\u001b[1;32m    321\u001b[0m     target \u001b[38;5;241m=\u001b[39m np\u001b[38;5;241m.\u001b[39mreshape(target, (\u001b[38;5;241m1\u001b[39m, \u001b[38;5;241m-\u001b[39m\u001b[38;5;241m1\u001b[39m))\n\u001b[1;32m    322\u001b[0m     \u001b[38;5;66;03m# print('for select', trial.shape, target.shape)\u001b[39;00m\n\u001b[0;32m--> 323\u001b[0m     new_population[i] \u001b[38;5;241m=\u001b[39m \u001b[38;5;28mself\u001b[39m\u001b[38;5;241m.\u001b[39mselect(target, trial)\n\u001b[1;32m    325\u001b[0m \u001b[38;5;66;03m# Update the population\u001b[39;00m\n\u001b[1;32m    326\u001b[0m \u001b[38;5;28mself\u001b[39m\u001b[38;5;241m.\u001b[39mpopulation \u001b[38;5;241m=\u001b[39m new_population\n",
      "File \u001b[0;32m~/projects/elgarMOOOpt/optimiserBank.py:287\u001b[0m, in \u001b[0;36mDifferentialEvolution.select\u001b[0;34m(self, target, trial)\u001b[0m\n\u001b[1;32m    285\u001b[0m \u001b[38;5;28;01mdef\u001b[39;00m \u001b[38;5;21mselect\u001b[39m(\u001b[38;5;28mself\u001b[39m, target, trial):\n\u001b[1;32m    286\u001b[0m \u001b[38;5;250m    \u001b[39m\u001b[38;5;124;03m\"\"\"Selection: Return the individual with the better fitness.\"\"\"\u001b[39;00m\n\u001b[0;32m--> 287\u001b[0m     \u001b[38;5;28;01mif\u001b[39;00m GPEval(\u001b[38;5;28mself\u001b[39m\u001b[38;5;241m.\u001b[39mobjective_function, trial) \u001b[38;5;241m<\u001b[39m GPEval(\n\u001b[1;32m    288\u001b[0m         \u001b[38;5;28mself\u001b[39m\u001b[38;5;241m.\u001b[39mobjective_function, target\n\u001b[1;32m    289\u001b[0m     ):\n\u001b[1;32m    290\u001b[0m         \u001b[38;5;28;01mreturn\u001b[39;00m trial\n\u001b[1;32m    291\u001b[0m     \u001b[38;5;28;01mreturn\u001b[39;00m target\n",
      "File \u001b[0;32m~/projects/elgarMOOOpt/optimiserBank.py:170\u001b[0m, in \u001b[0;36mGPEval\u001b[0;34m(model, newFeatures)\u001b[0m\n\u001b[1;32m    167\u001b[0m model\u001b[38;5;241m.\u001b[39meval()\n\u001b[1;32m    169\u001b[0m \u001b[38;5;28;01mwith\u001b[39;00m torch\u001b[38;5;241m.\u001b[39mno_grad(), gpytorch\u001b[38;5;241m.\u001b[39msettings\u001b[38;5;241m.\u001b[39mfast_pred_var():\n\u001b[0;32m--> 170\u001b[0m     observed_pred \u001b[38;5;241m=\u001b[39m model(torch\u001b[38;5;241m.\u001b[39mfrom_numpy(newFeatures))\n\u001b[1;32m    172\u001b[0m mean_pred \u001b[38;5;241m=\u001b[39m observed_pred\u001b[38;5;241m.\u001b[39mmean\u001b[38;5;241m.\u001b[39mnumpy()\n\u001b[1;32m    174\u001b[0m \u001b[38;5;28;01mreturn\u001b[39;00m mean_pred\n",
      "File \u001b[0;32m~/miniconda3/envs/OpenFOAM/lib/python3.11/site-packages/gpytorch/models/exact_gp.py:333\u001b[0m, in \u001b[0;36mExactGP.__call__\u001b[0;34m(self, *args, **kwargs)\u001b[0m\n\u001b[1;32m    328\u001b[0m \u001b[38;5;66;03m# Make the prediction\u001b[39;00m\n\u001b[1;32m    329\u001b[0m \u001b[38;5;28;01mwith\u001b[39;00m settings\u001b[38;5;241m.\u001b[39mcg_tolerance(settings\u001b[38;5;241m.\u001b[39meval_cg_tolerance\u001b[38;5;241m.\u001b[39mvalue()):\n\u001b[1;32m    330\u001b[0m     (\n\u001b[1;32m    331\u001b[0m         predictive_mean,\n\u001b[1;32m    332\u001b[0m         predictive_covar,\n\u001b[0;32m--> 333\u001b[0m     ) \u001b[38;5;241m=\u001b[39m \u001b[38;5;28mself\u001b[39m\u001b[38;5;241m.\u001b[39mprediction_strategy\u001b[38;5;241m.\u001b[39mexact_prediction(full_mean, full_covar)\n\u001b[1;32m    335\u001b[0m \u001b[38;5;66;03m# Reshape predictive mean to match the appropriate event shape\u001b[39;00m\n\u001b[1;32m    336\u001b[0m predictive_mean \u001b[38;5;241m=\u001b[39m predictive_mean\u001b[38;5;241m.\u001b[39mview(\u001b[38;5;241m*\u001b[39mbatch_shape, \u001b[38;5;241m*\u001b[39mtest_shape)\u001b[38;5;241m.\u001b[39mcontiguous()\n",
      "File \u001b[0;32m~/miniconda3/envs/OpenFOAM/lib/python3.11/site-packages/gpytorch/models/exact_prediction_strategies.py:281\u001b[0m, in \u001b[0;36mDefaultPredictionStrategy.exact_prediction\u001b[0;34m(self, joint_mean, joint_covar)\u001b[0m\n\u001b[1;32m    279\u001b[0m \u001b[38;5;66;03m# For efficiency - we can make things more efficient\u001b[39;00m\n\u001b[1;32m    280\u001b[0m \u001b[38;5;28;01mif\u001b[39;00m joint_covar\u001b[38;5;241m.\u001b[39msize(\u001b[38;5;241m-\u001b[39m\u001b[38;5;241m1\u001b[39m) \u001b[38;5;241m<\u001b[39m\u001b[38;5;241m=\u001b[39m settings\u001b[38;5;241m.\u001b[39mmax_eager_kernel_size\u001b[38;5;241m.\u001b[39mvalue():\n\u001b[0;32m--> 281\u001b[0m     test_covar \u001b[38;5;241m=\u001b[39m joint_covar[\u001b[38;5;241m.\u001b[39m\u001b[38;5;241m.\u001b[39m\u001b[38;5;241m.\u001b[39m, \u001b[38;5;28mself\u001b[39m\u001b[38;5;241m.\u001b[39mnum_train :, :]\u001b[38;5;241m.\u001b[39mto_dense()\n\u001b[1;32m    282\u001b[0m     test_test_covar \u001b[38;5;241m=\u001b[39m test_covar[\u001b[38;5;241m.\u001b[39m\u001b[38;5;241m.\u001b[39m\u001b[38;5;241m.\u001b[39m, \u001b[38;5;28mself\u001b[39m\u001b[38;5;241m.\u001b[39mnum_train :]\n\u001b[1;32m    283\u001b[0m     test_train_covar \u001b[38;5;241m=\u001b[39m test_covar[\u001b[38;5;241m.\u001b[39m\u001b[38;5;241m.\u001b[39m\u001b[38;5;241m.\u001b[39m, : \u001b[38;5;28mself\u001b[39m\u001b[38;5;241m.\u001b[39mnum_train]\n",
      "File \u001b[0;32m~/miniconda3/envs/OpenFOAM/lib/python3.11/site-packages/gpytorch/lazy/lazy_evaluated_kernel_tensor.py:25\u001b[0m, in \u001b[0;36mrecall_grad_state.<locals>.wrapped\u001b[0;34m(self, *args, **kwargs)\u001b[0m\n\u001b[1;32m     22\u001b[0m \u001b[38;5;129m@functools\u001b[39m\u001b[38;5;241m.\u001b[39mwraps(method)\n\u001b[1;32m     23\u001b[0m \u001b[38;5;28;01mdef\u001b[39;00m \u001b[38;5;21mwrapped\u001b[39m(\u001b[38;5;28mself\u001b[39m, \u001b[38;5;241m*\u001b[39margs, \u001b[38;5;241m*\u001b[39m\u001b[38;5;241m*\u001b[39mkwargs):\n\u001b[1;32m     24\u001b[0m     \u001b[38;5;28;01mwith\u001b[39;00m torch\u001b[38;5;241m.\u001b[39mset_grad_enabled(\u001b[38;5;28mself\u001b[39m\u001b[38;5;241m.\u001b[39m_is_grad_enabled):\n\u001b[0;32m---> 25\u001b[0m         output \u001b[38;5;241m=\u001b[39m method(\u001b[38;5;28mself\u001b[39m, \u001b[38;5;241m*\u001b[39margs, \u001b[38;5;241m*\u001b[39m\u001b[38;5;241m*\u001b[39mkwargs)\n\u001b[1;32m     26\u001b[0m     \u001b[38;5;28;01mreturn\u001b[39;00m output\n",
      "File \u001b[0;32m~/miniconda3/envs/OpenFOAM/lib/python3.11/site-packages/gpytorch/lazy/lazy_evaluated_kernel_tensor.py:423\u001b[0m, in \u001b[0;36mLazyEvaluatedKernelTensor.__getitem__\u001b[0;34m(self, index)\u001b[0m\n\u001b[1;32m    421\u001b[0m \u001b[38;5;28;01mif\u001b[39;00m \u001b[38;5;28mlen\u001b[39m(index) \u001b[38;5;241m==\u001b[39m \u001b[38;5;241m3\u001b[39m \u001b[38;5;129;01mand\u001b[39;00m index[\u001b[38;5;241m0\u001b[39m] \u001b[38;5;129;01mis\u001b[39;00m \u001b[38;5;28mEllipsis\u001b[39m \u001b[38;5;129;01mand\u001b[39;00m \u001b[38;5;28misinstance\u001b[39m(index[\u001b[38;5;241m1\u001b[39m], \u001b[38;5;28mslice\u001b[39m) \u001b[38;5;129;01mand\u001b[39;00m \u001b[38;5;28misinstance\u001b[39m(index[\u001b[38;5;241m2\u001b[39m], \u001b[38;5;28mslice\u001b[39m):\n\u001b[1;32m    422\u001b[0m     _, row_index, col_index \u001b[38;5;241m=\u001b[39m index\n\u001b[0;32m--> 423\u001b[0m     batch_indices \u001b[38;5;241m=\u001b[39m [\u001b[38;5;28mslice\u001b[39m(\u001b[38;5;28;01mNone\u001b[39;00m, \u001b[38;5;28;01mNone\u001b[39;00m, \u001b[38;5;28;01mNone\u001b[39;00m)] \u001b[38;5;241m*\u001b[39m (\u001b[38;5;28mself\u001b[39m\u001b[38;5;241m.\u001b[39mdim() \u001b[38;5;241m-\u001b[39m \u001b[38;5;241m2\u001b[39m)\n\u001b[1;32m    424\u001b[0m     \u001b[38;5;28;01mreturn\u001b[39;00m \u001b[38;5;28mself\u001b[39m\u001b[38;5;241m.\u001b[39m_getitem(row_index, col_index, \u001b[38;5;241m*\u001b[39mbatch_indices)\n\u001b[1;32m    425\u001b[0m \u001b[38;5;28;01melse\u001b[39;00m:\n",
      "File \u001b[0;32m~/miniconda3/envs/OpenFOAM/lib/python3.11/site-packages/linear_operator/operators/_linear_operator.py:1463\u001b[0m, in \u001b[0;36mLinearOperator.dim\u001b[0;34m(self)\u001b[0m\n\u001b[1;32m   1459\u001b[0m \u001b[38;5;28;01mdef\u001b[39;00m \u001b[38;5;21mdim\u001b[39m(\u001b[38;5;28mself\u001b[39m) \u001b[38;5;241m-\u001b[39m\u001b[38;5;241m>\u001b[39m \u001b[38;5;28mint\u001b[39m:\n\u001b[1;32m   1460\u001b[0m \u001b[38;5;250m    \u001b[39m\u001b[38;5;124;03m\"\"\"\u001b[39;00m\n\u001b[1;32m   1461\u001b[0m \u001b[38;5;124;03m    Alias of :meth:`~linear_operator.operators.LinearOperator.ndimension`\u001b[39;00m\n\u001b[1;32m   1462\u001b[0m \u001b[38;5;124;03m    \"\"\"\u001b[39;00m\n\u001b[0;32m-> 1463\u001b[0m     \u001b[38;5;28;01mreturn\u001b[39;00m \u001b[38;5;28mself\u001b[39m\u001b[38;5;241m.\u001b[39mndimension()\n",
      "File \u001b[0;32m~/miniconda3/envs/OpenFOAM/lib/python3.11/site-packages/linear_operator/operators/_linear_operator.py:1886\u001b[0m, in \u001b[0;36mLinearOperator.ndimension\u001b[0;34m(self)\u001b[0m\n\u001b[1;32m   1882\u001b[0m \u001b[38;5;129m@property\u001b[39m\n\u001b[1;32m   1883\u001b[0m \u001b[38;5;28;01mdef\u001b[39;00m \u001b[38;5;21mndim\u001b[39m(\u001b[38;5;28mself\u001b[39m) \u001b[38;5;241m-\u001b[39m\u001b[38;5;241m>\u001b[39m \u001b[38;5;28mint\u001b[39m:\n\u001b[1;32m   1884\u001b[0m     \u001b[38;5;28;01mreturn\u001b[39;00m \u001b[38;5;28mself\u001b[39m\u001b[38;5;241m.\u001b[39mndimension()\n\u001b[0;32m-> 1886\u001b[0m \u001b[38;5;28;01mdef\u001b[39;00m \u001b[38;5;21mndimension\u001b[39m(\u001b[38;5;28mself\u001b[39m) \u001b[38;5;241m-\u001b[39m\u001b[38;5;241m>\u001b[39m \u001b[38;5;28mint\u001b[39m:\n\u001b[1;32m   1887\u001b[0m \u001b[38;5;250m    \u001b[39m\u001b[38;5;124;03m\"\"\"\u001b[39;00m\n\u001b[1;32m   1888\u001b[0m \u001b[38;5;124;03m    Returns the number of dimensions.\u001b[39;00m\n\u001b[1;32m   1889\u001b[0m \u001b[38;5;124;03m    \"\"\"\u001b[39;00m\n\u001b[1;32m   1890\u001b[0m     \u001b[38;5;28;01mreturn\u001b[39;00m \u001b[38;5;28mlen\u001b[39m(\u001b[38;5;28mself\u001b[39m\u001b[38;5;241m.\u001b[39msize())\n",
      "\u001b[0;31mKeyboardInterrupt\u001b[0m: "
     ]
    }
   ],
   "source": [
    "PSO = opt.TS_DDEO(bounds, 20, func.binhAndKorn, func.chebyshev, 2, np.array((0.5, 0.5)), useInitialPopulation=True, initialPopulation=initPopulation)\n",
    "PSO.stage1()\n",
    "PSO.stage2()"
   ]
  }
 ],
 "metadata": {
  "kernelspec": {
   "display_name": "OpenFOAM",
   "language": "python",
   "name": "python3"
  },
  "language_info": {
   "codemirror_mode": {
    "name": "ipython",
    "version": 3
   },
   "file_extension": ".py",
   "mimetype": "text/x-python",
   "name": "python",
   "nbconvert_exporter": "python",
   "pygments_lexer": "ipython3",
   "version": "3.11.5"
  }
 },
 "nbformat": 4,
 "nbformat_minor": 2
}
